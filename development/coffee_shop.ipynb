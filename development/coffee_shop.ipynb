{
 "cells": [
  {
   "cell_type": "code",
   "execution_count": 10,
   "id": "fc62db1f-216f-4ca6-96cf-4777889a3718",
   "metadata": {},
   "outputs": [],
   "source": [
    "from data_engineering.local_machine_csv_to_csv.scheduled_oltp_update import run_daily_incremental"
   ]
  },
  {
   "cell_type": "code",
   "execution_count": 6,
   "id": "313a52ad-d2b2-48a3-9808-cf1155889bf1",
   "metadata": {},
   "outputs": [],
   "source": [
    "from data_engineering.local_machine_csv_to_csv.etl_oltp import extract_data, transform_data, load_data"
   ]
  },
  {
   "cell_type": "code",
   "execution_count": null,
   "id": "9b6732ec-b363-4997-8355-d901c4182728",
   "metadata": {},
   "outputs": [],
   "source": []
  }
 ],
 "metadata": {
  "kernelspec": {
   "display_name": "Python 3 (ipykernel)",
   "language": "python",
   "name": "python3"
  },
  "language_info": {
   "codemirror_mode": {
    "name": "ipython",
    "version": 3
   },
   "file_extension": ".py",
   "mimetype": "text/x-python",
   "name": "python",
   "nbconvert_exporter": "python",
   "pygments_lexer": "ipython3",
   "version": "3.11.13"
  }
 },
 "nbformat": 4,
 "nbformat_minor": 5
}
