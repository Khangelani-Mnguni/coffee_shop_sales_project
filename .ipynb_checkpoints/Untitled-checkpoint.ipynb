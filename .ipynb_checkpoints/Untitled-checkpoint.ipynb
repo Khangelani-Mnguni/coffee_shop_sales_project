{
 "cells": [
  {
   "cell_type": "code",
   "execution_count": 44,
   "id": "d0d39c31-76ae-487f-9400-08224cceaf1d",
   "metadata": {},
   "outputs": [
    {
     "name": "stdout",
     "output_type": "stream",
     "text": [
      "📥 Extracting data from 'Coffee Shop Sales2.csv'...\n",
      "📆 Processing daily backdate for: 2025-01-01\n",
      "🔄 Transforming data...\n",
      "🆕 No existing data. Creating a new file...\n",
      "✅ Load complete! Total unique transactions: 549\n",
      "✅ Daily backdate for 2025-01-01 completed.\n"
     ]
    }
   ],
   "source": [
    "import development.scheduled_csv_to_mysql\n",
    "\n",
    "if __name__ == '__main__':\n",
    "    run_daily_incremental()"
   ]
  },
  {
   "cell_type": "code",
   "execution_count": 48,
   "id": "63df71ad-d809-4ec4-bfc0-f8ba51a389c6",
   "metadata": {},
   "outputs": [
    {
     "ename": "SyntaxError",
     "evalue": "invalid syntax (2856326376.py, line 1)",
     "output_type": "error",
     "traceback": [
      "\u001b[1;36m  Cell \u001b[1;32mIn[48], line 1\u001b[1;36m\u001b[0m\n\u001b[1;33m    install pandas\u001b[0m\n\u001b[1;37m            ^\u001b[0m\n\u001b[1;31mSyntaxError\u001b[0m\u001b[1;31m:\u001b[0m invalid syntax\n"
     ]
    }
   ],
   "source": [
    "install pandas"
   ]
  },
  {
   "cell_type": "code",
   "execution_count": 50,
   "id": "78ebc3da-d748-4549-9c26-12436acf4d55",
   "metadata": {},
   "outputs": [
    {
     "name": "stdout",
     "output_type": "stream",
     "text": [
      "Requirement already satisfied: pandas in c:\\users\\khang\\anaconda3\\lib\\site-packages (2.2.2)Note: you may need to restart the kernel to use updated packages.\n",
      "\n",
      "Requirement already satisfied: numpy>=1.26.0 in c:\\users\\khang\\anaconda3\\lib\\site-packages (from pandas) (1.26.4)\n",
      "Requirement already satisfied: python-dateutil>=2.8.2 in c:\\users\\khang\\anaconda3\\lib\\site-packages (from pandas) (2.9.0.post0)\n",
      "Requirement already satisfied: pytz>=2020.1 in c:\\users\\khang\\anaconda3\\lib\\site-packages (from pandas) (2025.2)\n",
      "Requirement already satisfied: tzdata>=2022.7 in c:\\users\\khang\\anaconda3\\lib\\site-packages (from pandas) (2025.2)\n",
      "Requirement already satisfied: six>=1.5 in c:\\users\\khang\\anaconda3\\lib\\site-packages (from python-dateutil>=2.8.2->pandas) (1.17.0)\n"
     ]
    }
   ],
   "source": [
    "pip install pandas"
   ]
  },
  {
   "cell_type": "code",
   "execution_count": 10,
   "id": "2dc2b5e0-1150-4674-8fa4-7b83abe4ee88",
   "metadata": {},
   "outputs": [],
   "source": [
    "import os\n",
    "from datetime import datetime, timedelta\n",
    "import pandas as pd\n",
    "from etl_backdating_csv_to_csv import extract_data, transform_data, load_data\n",
    "\n",
    "INPUT_FILE = \"Coffee Shop Sales2.csv\"\n",
    "OUTPUT_FILE = \"transformed.csv\"\n",
    "\n",
    "def get_next_date_to_process(output_csv, df_raw):\n",
    "    \"\"\"\n",
    "    Determine the next date to backdate based on the last date in the CSV.\n",
    "    If the CSV doesn't exist, return the earliest date in the raw data.\n",
    "    \"\"\"\n",
    "    df_raw['transaction_date'] = pd.to_datetime(df_raw['transaction_date'], errors='coerce')\n",
    "    \n",
    "    if not os.path.exists(output_csv):\n",
    "        return df_raw['transaction_date'].min()\n",
    "\n",
    "    df_existing = pd.read_csv(output_csv)\n",
    "    df_existing['transaction_date'] = pd.to_datetime(df_existing['transaction_date'], errors='coerce')\n",
    "    df_existing = df_existing.dropna(subset=['transaction_date'])\n",
    "    last_date = df_existing['transaction_date'].max()\n",
    "\n",
    "    return last_date + timedelta(days=1)\n",
    "\n",
    "\n",
    "def run_daily_incremental():\n",
    "    \"\"\"\n",
    "    Run ETL for the next unprocessed date in the raw CSV.\n",
    "    \"\"\"\n",
    "    df_raw = extract_data(INPUT_FILE)\n",
    "    if df_raw is None:\n",
    "        print(\"❌ Extraction failed.\")\n",
    "        return\n",
    "\n",
    "    next_date = get_next_date_to_process(OUTPUT_FILE, df_raw)\n",
    "\n",
    "    df_raw['transaction_date'] = pd.to_datetime(df_raw['transaction_date'], errors='coerce')\n",
    "    df_raw = df_raw.dropna(subset=['transaction_date'])\n",
    "\n",
    "    last_raw_date = df_raw['transaction_date'].max()\n",
    "    if next_date > last_raw_date:\n",
    "        print(\"✅ No new data to process. All dates up to latest available are loaded.\")\n",
    "        return\n",
    "\n",
    "    start_date_str = next_date.strftime('%Y-%m-%d')\n",
    "    end_date_str = next_date.strftime('%Y-%m-%d')\n",
    "\n",
    "    print(f\"📆 Processing daily backdate for: {start_date_str}\")\n",
    "\n",
    "    # --- Transform and load ---\n",
    "    df_transformed = transform_data(df_raw, start_date_str, end_date_str)\n",
    "    if df_transformed.empty:\n",
    "        print(f\"⚠ No data found for {start_date_str}\")\n",
    "        return\n",
    "\n",
    "    load_data(df_transformed, OUTPUT_FILE, start_date_str, end_date_str)\n",
    "    print(f\"✅ Daily backdate for {start_date_str} completed.\")\n"
   ]
  },
  {
   "cell_type": "code",
   "execution_count": 12,
   "id": "4b617f1e-7992-4bf6-9cb7-7e646aa387b3",
   "metadata": {},
   "outputs": [
    {
     "name": "stdout",
     "output_type": "stream",
     "text": [
      "📥 Extracting data from 'Coffee Shop Sales2.csv'...\n",
      "📆 Processing daily backdate for: 2025-01-02\n",
      "🔄 Transforming data...\n",
      "📂 Existing data found. Removing old data in the same date range...\n",
      "✅ Load complete! Total unique transactions: 1115\n",
      "✅ Daily backdate for 2025-01-02 completed.\n"
     ]
    }
   ],
   "source": [
    "run_daily_incremental()"
   ]
  },
  {
   "cell_type": "code",
   "execution_count": 19,
   "id": "1ae0f41b-36c4-45ec-9d8c-889e6e8df05c",
   "metadata": {},
   "outputs": [],
   "source": [
    "def extract_data(file_path):\n",
    "    try:\n",
    "        df = pd.read_csv(file_path)\n",
    "        print(f\"✅ Data extracted successfully from {file_path}\")\n",
    "        print(\"Columns in CSV:\", df.columns.tolist())  # 🔍 Add this line\n",
    "        return df\n",
    "    except FileNotFoundError:\n",
    "        print(f\"❌ Error: The file {file_path} was not found.\")\n",
    "        return None\n",
    "    except Exception as e:\n",
    "        print(f\"❌ An error occurred during data extraction: {e}\")\n",
    "        return None"
   ]
  },
  {
   "cell_type": "code",
   "execution_count": 21,
   "id": "02974566-8cd1-400d-9267-957eb04ca4ec",
   "metadata": {},
   "outputs": [],
   "source": [
    "INPUT_FILE = \"Coffee Shop Sales2.csv\""
   ]
  },
  {
   "cell_type": "code",
   "execution_count": 23,
   "id": "ca0060d5-7999-4984-83cc-5f2eb342eabd",
   "metadata": {},
   "outputs": [
    {
     "name": "stdout",
     "output_type": "stream",
     "text": [
      "✅ Data extracted successfully from Coffee Shop Sales2.csv\n",
      "Columns in CSV: ['transaction_id;transaction_date;transaction_time;transaction_qty;store_id;store_location;product_id;unit_price;product_category;product_type;product_detail']\n"
     ]
    },
    {
     "data": {
      "text/html": [
       "<div>\n",
       "<style scoped>\n",
       "    .dataframe tbody tr th:only-of-type {\n",
       "        vertical-align: middle;\n",
       "    }\n",
       "\n",
       "    .dataframe tbody tr th {\n",
       "        vertical-align: top;\n",
       "    }\n",
       "\n",
       "    .dataframe thead th {\n",
       "        text-align: right;\n",
       "    }\n",
       "</style>\n",
       "<table border=\"1\" class=\"dataframe\">\n",
       "  <thead>\n",
       "    <tr style=\"text-align: right;\">\n",
       "      <th></th>\n",
       "      <th>transaction_id;transaction_date;transaction_time;transaction_qty;store_id;store_location;product_id;unit_price;product_category;product_type;product_detail</th>\n",
       "    </tr>\n",
       "  </thead>\n",
       "  <tbody>\n",
       "    <tr>\n",
       "      <th>0</th>\n",
       "      <td>1;2025/01/01;07:06:11;2;5;Lower Manhattan;32;3...</td>\n",
       "    </tr>\n",
       "    <tr>\n",
       "      <th>1</th>\n",
       "      <td>2;2025/01/01;07:08:56;2;5;Lower Manhattan;57;3...</td>\n",
       "    </tr>\n",
       "    <tr>\n",
       "      <th>2</th>\n",
       "      <td>3;2025/01/01;07:14:04;2;5;Lower Manhattan;59;4...</td>\n",
       "    </tr>\n",
       "    <tr>\n",
       "      <th>3</th>\n",
       "      <td>4;2025/01/01;07:20:24;1;5;Lower Manhattan;22;2...</td>\n",
       "    </tr>\n",
       "    <tr>\n",
       "      <th>4</th>\n",
       "      <td>5;2025/01/01;07:22:41;2;5;Lower Manhattan;57;3...</td>\n",
       "    </tr>\n",
       "    <tr>\n",
       "      <th>...</th>\n",
       "      <td>...</td>\n",
       "    </tr>\n",
       "    <tr>\n",
       "      <th>149111</th>\n",
       "      <td>149452;2025/06/30;20:18:41;2;8;Hell's Kitchen;...</td>\n",
       "    </tr>\n",
       "    <tr>\n",
       "      <th>149112</th>\n",
       "      <td>149453;2025/06/30;20:25:10;2;8;Hell's Kitchen;...</td>\n",
       "    </tr>\n",
       "    <tr>\n",
       "      <th>149113</th>\n",
       "      <td>149454;2025/06/30;20:31:34;1;8;Hell's Kitchen;...</td>\n",
       "    </tr>\n",
       "    <tr>\n",
       "      <th>149114</th>\n",
       "      <td>149455;2025/06/30;20:57:19;1;8;Hell's Kitchen;...</td>\n",
       "    </tr>\n",
       "    <tr>\n",
       "      <th>149115</th>\n",
       "      <td>149456;2025/06/30;20:57:19;2;8;Hell's Kitchen;...</td>\n",
       "    </tr>\n",
       "  </tbody>\n",
       "</table>\n",
       "<p>149116 rows × 1 columns</p>\n",
       "</div>"
      ],
      "text/plain": [
       "       transaction_id;transaction_date;transaction_time;transaction_qty;store_id;store_location;product_id;unit_price;product_category;product_type;product_detail\n",
       "0       1;2025/01/01;07:06:11;2;5;Lower Manhattan;32;3...                                                                                                         \n",
       "1       2;2025/01/01;07:08:56;2;5;Lower Manhattan;57;3...                                                                                                         \n",
       "2       3;2025/01/01;07:14:04;2;5;Lower Manhattan;59;4...                                                                                                         \n",
       "3       4;2025/01/01;07:20:24;1;5;Lower Manhattan;22;2...                                                                                                         \n",
       "4       5;2025/01/01;07:22:41;2;5;Lower Manhattan;57;3...                                                                                                         \n",
       "...                                                   ...                                                                                                         \n",
       "149111  149452;2025/06/30;20:18:41;2;8;Hell's Kitchen;...                                                                                                         \n",
       "149112  149453;2025/06/30;20:25:10;2;8;Hell's Kitchen;...                                                                                                         \n",
       "149113  149454;2025/06/30;20:31:34;1;8;Hell's Kitchen;...                                                                                                         \n",
       "149114  149455;2025/06/30;20:57:19;1;8;Hell's Kitchen;...                                                                                                         \n",
       "149115  149456;2025/06/30;20:57:19;2;8;Hell's Kitchen;...                                                                                                         \n",
       "\n",
       "[149116 rows x 1 columns]"
      ]
     },
     "execution_count": 23,
     "metadata": {},
     "output_type": "execute_result"
    }
   ],
   "source": [
    "extract_data(INPUT_FILE)"
   ]
  },
  {
   "cell_type": "code",
   "execution_count": 26,
   "id": "6a184278-73ab-46d0-9158-1f03dc10db92",
   "metadata": {},
   "outputs": [
    {
     "ename": "SyntaxError",
     "evalue": "Missing parentheses in call to 'exec'. Did you mean exec(...)? (2902784441.py, line 1)",
     "output_type": "error",
     "traceback": [
      "\u001b[1;36m  Cell \u001b[1;32mIn[26], line 1\u001b[1;36m\u001b[0m\n\u001b[1;33m    docker exec -it airflow-docker-airflow-scheduler-1 bash\u001b[0m\n\u001b[1;37m           ^\u001b[0m\n\u001b[1;31mSyntaxError\u001b[0m\u001b[1;31m:\u001b[0m Missing parentheses in call to 'exec'. Did you mean exec(...)?\n"
     ]
    }
   ],
   "source": [
    "docker exec -it airflow-docker-airflow-scheduler-1 bash\n",
    "python3\n"
   ]
  },
  {
   "cell_type": "code",
   "execution_count": null,
   "id": "cbb4642a-7247-495a-9e95-63ddc8e7f577",
   "metadata": {},
   "outputs": [],
   "source": []
  }
 ],
 "metadata": {
  "kernelspec": {
   "display_name": "Python [conda env:base] *",
   "language": "python",
   "name": "conda-base-py"
  },
  "language_info": {
   "codemirror_mode": {
    "name": "ipython",
    "version": 3
   },
   "file_extension": ".py",
   "mimetype": "text/x-python",
   "name": "python",
   "nbconvert_exporter": "python",
   "pygments_lexer": "ipython3",
   "version": "3.12.3"
  }
 },
 "nbformat": 4,
 "nbformat_minor": 5
}
